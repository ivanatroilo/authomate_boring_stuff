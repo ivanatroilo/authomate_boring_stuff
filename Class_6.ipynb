{
  "nbformat": 4,
  "nbformat_minor": 0,
  "metadata": {
    "colab": {
      "provenance": [],
      "authorship_tag": "ABX9TyMio/aCqHU4XgalUG+F0+fg",
      "include_colab_link": true
    },
    "kernelspec": {
      "name": "python3",
      "display_name": "Python 3"
    },
    "language_info": {
      "name": "python"
    }
  },
  "cells": [
    {
      "cell_type": "markdown",
      "metadata": {
        "id": "view-in-github",
        "colab_type": "text"
      },
      "source": [
        "<a href=\"https://colab.research.google.com/github/ivanatroilo/authomate_boring_stuff/blob/main/Class_6.ipynb\" target=\"_parent\"><img src=\"https://colab.research.google.com/assets/colab-badge.svg\" alt=\"Open In Colab\"/></a>"
      ]
    },
    {
      "cell_type": "code",
      "source": [
        "#this program says hello and asks for my name\n",
        "print(\"Hello world!\")\n",
        "print(\"What is your name?\")\n",
        "myName = input()\n",
        "print(\"It is good to meet you, \" + myName)\n",
        "print(len(myName))\n",
        "print(\"What is your age?\")\n",
        "myAge= input()\n",
        "print(\"You will be \" + str(int(myAge)+1) + \" in a year.\")\n",
        "\n"
      ],
      "metadata": {
        "colab": {
          "base_uri": "https://localhost:8080/"
        },
        "id": "zqY6N1jfpe7y",
        "outputId": "a2ea922f-cffd-4f73-d9db-b71b0c343056"
      },
      "execution_count": 2,
      "outputs": [
        {
          "output_type": "stream",
          "name": "stdout",
          "text": [
            "Hello world!\n",
            "What is your name?\n",
            "Lorena\n",
            "It is good to meet you, Lorena\n",
            "6\n",
            "What is your age?\n",
            "31\n",
            "You will be 32 in a year.\n"
          ]
        }
      ]
    },
    {
      "cell_type": "code",
      "source": [
        "name = \"Bob\"\n",
        "if name == \"Alice\":\n",
        "    print(\"Hi Alice\")\n",
        "print(\"done\")"
      ],
      "metadata": {
        "colab": {
          "base_uri": "https://localhost:8080/"
        },
        "id": "We9_9fvpwGb3",
        "outputId": "fb10fda8-64fc-4d60-d6d6-a6f1f71d7b29"
      },
      "execution_count": 7,
      "outputs": [
        {
          "output_type": "stream",
          "name": "stdout",
          "text": [
            "done\n"
          ]
        }
      ]
    },
    {
      "cell_type": "code",
      "source": [
        "password = \"swordfish\"\n",
        "if password == \"swordfish\":\n",
        "    print(\"Acceds granted\")\n",
        "else:\n",
        "  print(\"Acces denied\")"
      ],
      "metadata": {
        "colab": {
          "base_uri": "https://localhost:8080/"
        },
        "id": "3mmVQzYHzrq_",
        "outputId": "6c546e05-e182-431a-8d7d-81e2a1a7f3d7"
      },
      "execution_count": 8,
      "outputs": [
        {
          "output_type": "stream",
          "name": "stdout",
          "text": [
            "Acceds granted\n"
          ]
        }
      ]
    }
  ]
}