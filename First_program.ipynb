{
  "nbformat": 4,
  "nbformat_minor": 0,
  "metadata": {
    "colab": {
      "provenance": [],
      "authorship_tag": "ABX9TyPEcGmT4w6YPRZ8xQz7C/9V",
      "include_colab_link": true
    },
    "kernelspec": {
      "name": "python3",
      "display_name": "Python 3"
    },
    "language_info": {
      "name": "python"
    }
  },
  "cells": [
    {
      "cell_type": "markdown",
      "metadata": {
        "id": "view-in-github",
        "colab_type": "text"
      },
      "source": [
        "<a href=\"https://colab.research.google.com/github/ivanatroilo/authomate_boring_stuff/blob/main/First_program.ipynb\" target=\"_parent\"><img src=\"https://colab.research.google.com/assets/colab-badge.svg\" alt=\"Open In Colab\"/></a>"
      ]
    },
    {
      "cell_type": "code",
      "execution_count": 9,
      "metadata": {
        "colab": {
          "base_uri": "https://localhost:8080/"
        },
        "id": "qhAms-rW4Csz",
        "outputId": "348acc27-d952-4113-adf0-61e587d9e9ff"
      },
      "outputs": [
        {
          "output_type": "stream",
          "name": "stdout",
          "text": [
            "Hello, world\n",
            "What is your name?\n",
            "Ivana\n",
            "It's good to meet you, Ivana\n",
            "The lenght of your name is: \n",
            "5\n",
            "How old are you?\n",
            "31\n",
            "Your age is: 31\n",
            "In a year you will be: 32\n"
          ]
        }
      ],
      "source": [
        "#This program ask your name\n",
        "\n",
        "print(\"Hello, world\")\n",
        "print(\"What is your name?\")\n",
        "myname= input()\n",
        "print(\"It's good to meet you, \" + myname)\n",
        "print(\"The lenght of your name is: \")\n",
        "print(len(myname))\n",
        "print(\"How old are you?\")\n",
        "myage=input()\n",
        "print(\"Your age is: \"+ str(myage))\n",
        "print(\"In a year you will be: \" + str(int(myage)+1))\n"
      ]
    }
  ]
}