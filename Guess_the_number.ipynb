{
  "nbformat": 4,
  "nbformat_minor": 0,
  "metadata": {
    "colab": {
      "provenance": [],
      "authorship_tag": "ABX9TyPoX9lyKfMX/nLYc6XXY8tL",
      "include_colab_link": true
    },
    "kernelspec": {
      "name": "python3",
      "display_name": "Python 3"
    },
    "language_info": {
      "name": "python"
    }
  },
  "cells": [
    {
      "cell_type": "markdown",
      "metadata": {
        "id": "view-in-github",
        "colab_type": "text"
      },
      "source": [
        "<a href=\"https://colab.research.google.com/github/ivanatroilo/authomate_boring_stuff/blob/main/Guess_the_number.ipynb\" target=\"_parent\"><img src=\"https://colab.research.google.com/assets/colab-badge.svg\" alt=\"Open In Colab\"/></a>"
      ]
    },
    {
      "cell_type": "code",
      "execution_count": 6,
      "metadata": {
        "colab": {
          "base_uri": "https://localhost:8080/"
        },
        "id": "qhAms-rW4Csz",
        "outputId": "f70156c7-31a2-4ed9-84a0-c7da944faf35"
      },
      "outputs": [
        {
          "output_type": "stream",
          "name": "stdout",
          "text": [
            "I'm thinking a number between 1 and 20\n",
            "Take a guess\n",
            "5\n",
            "Too low\n",
            "Take a guess\n",
            "8\n",
            "Too low\n",
            "Take a guess\n",
            "19\n",
            "Too high\n",
            "Take a guess\n",
            "15\n",
            "Too low\n",
            "Take a guess\n",
            "17\n",
            "Good job, you guessed my number in 5\n"
          ]
        }
      ],
      "source": [
        "import random\n",
        "secretnumber = random.randint(1,20)\n",
        "print(\"I'm thinking a number between 1 and 20\")\n",
        "\n",
        "for guessesTaken in range (1,7):\n",
        "    print(\"Take a guess\")\n",
        "    guess = int(input())\n",
        "\n",
        "    if guess < secretnumber:\n",
        "       print(\"Too low\")\n",
        "    elif guess > secretnumber:\n",
        "       print(\"Too high\")\n",
        "    else:\n",
        "       break\n",
        "\n",
        "if guess == secretnumber:\n",
        "  print(\"Good job, you guessed my number in \" + str(guessesTaken))\n",
        "else:\n",
        "  print(\"Nop. The number that I was guessing was: \" + str(secretnumber))\n",
        "\n",
        "\n",
        "\n",
        "\n",
        "\n",
        "\n",
        "\n",
        "\n",
        "\n",
        "\n"
      ]
    }
  ]
}