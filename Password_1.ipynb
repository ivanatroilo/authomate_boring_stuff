{
  "nbformat": 4,
  "nbformat_minor": 0,
  "metadata": {
    "colab": {
      "provenance": [],
      "authorship_tag": "ABX9TyOibxM4A5s+WXpNEqXJhpSi",
      "include_colab_link": true
    },
    "kernelspec": {
      "name": "python3",
      "display_name": "Python 3"
    },
    "language_info": {
      "name": "python"
    }
  },
  "cells": [
    {
      "cell_type": "markdown",
      "metadata": {
        "id": "view-in-github",
        "colab_type": "text"
      },
      "source": [
        "<a href=\"https://colab.research.google.com/github/ivanatroilo/authomate_boring_stuff/blob/main/Password_1.ipynb\" target=\"_parent\"><img src=\"https://colab.research.google.com/assets/colab-badge.svg\" alt=\"Open In Colab\"/></a>"
      ]
    },
    {
      "cell_type": "code",
      "execution_count": 10,
      "metadata": {
        "colab": {
          "base_uri": "https://localhost:8080/"
        },
        "id": "qhAms-rW4Csz",
        "outputId": "c775ccc8-4128-40ef-8f7e-ca354ae57b69"
      },
      "outputs": [
        {
          "output_type": "stream",
          "name": "stdout",
          "text": [
            "Ingrese su usuario: ivanat\n",
            "Ingrese su contraseña: Pollo29\n",
            "La contraseña fue incorrecta, intente nuevamente\n"
          ]
        }
      ],
      "source": [
        "#Check the password\n",
        "\n",
        "usuer = input(\"Ingrese su usuario: \")\n",
        "password = input(\"Ingrese su contraseña: \")\n",
        "\n",
        "if password == \"Alcachofas\":\n",
        "  print(\"Acceso otorgado\")\n",
        "else:\n",
        "  print(\"La contraseña fue incorrecta, intente nuevamente\")\n",
        "\n",
        "\n"
      ]
    }
  ]
}