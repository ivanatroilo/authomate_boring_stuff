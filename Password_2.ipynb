{
  "nbformat": 4,
  "nbformat_minor": 0,
  "metadata": {
    "colab": {
      "provenance": [],
      "authorship_tag": "ABX9TyNnPylVuepQ/Da+GXh/m0jt",
      "include_colab_link": true
    },
    "kernelspec": {
      "name": "python3",
      "display_name": "Python 3"
    },
    "language_info": {
      "name": "python"
    }
  },
  "cells": [
    {
      "cell_type": "markdown",
      "metadata": {
        "id": "view-in-github",
        "colab_type": "text"
      },
      "source": [
        "<a href=\"https://colab.research.google.com/github/ivanatroilo/authomate_boring_stuff/blob/main/Password_2.ipynb\" target=\"_parent\"><img src=\"https://colab.research.google.com/assets/colab-badge.svg\" alt=\"Open In Colab\"/></a>"
      ]
    },
    {
      "cell_type": "code",
      "execution_count": 13,
      "metadata": {
        "colab": {
          "base_uri": "https://localhost:8080/"
        },
        "id": "qhAms-rW4Csz",
        "outputId": "ca912274-8aa0-429e-df8e-2e9539ddf185"
      },
      "outputs": [
        {
          "output_type": "stream",
          "name": "stdout",
          "text": [
            "Who are you?: \n",
            "Joe\n",
            "Hello, Joe. What is the password?\n",
            "swordfish\n",
            "Access granted\n"
          ]
        }
      ],
      "source": [
        "#Check the password loop\n",
        "\n",
        "\n",
        "\n",
        "while True:\n",
        "   print(\"Who are you?: \")\n",
        "   name = input()\n",
        "   if name != \"Joe\":\n",
        "      continue\n",
        "   print(\"Hello, Joe. What is the password?\")\n",
        "   password = input()\n",
        "   if password == \"swordfish\":\n",
        "     break\n",
        "print(\"Access granted\")\n",
        "\n",
        "\n",
        "\n",
        "\n",
        "\n"
      ]
    }
  ]
}