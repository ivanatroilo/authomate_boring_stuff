{
  "nbformat": 4,
  "nbformat_minor": 0,
  "metadata": {
    "colab": {
      "provenance": [],
      "authorship_tag": "ABX9TyNiCBLz3LGl2R1ynwXMnTI5",
      "include_colab_link": true
    },
    "kernelspec": {
      "name": "python3",
      "display_name": "Python 3"
    },
    "language_info": {
      "name": "python"
    }
  },
  "cells": [
    {
      "cell_type": "markdown",
      "metadata": {
        "id": "view-in-github",
        "colab_type": "text"
      },
      "source": [
        "<a href=\"https://colab.research.google.com/github/ivanatroilo/authomate_boring_stuff/blob/main/The_Collatz_Sequence.ipynb\" target=\"_parent\"><img src=\"https://colab.research.google.com/assets/colab-badge.svg\" alt=\"Open In Colab\"/></a>"
      ]
    },
    {
      "cell_type": "code",
      "execution_count": null,
      "metadata": {
        "id": "qhAms-rW4Csz"
      },
      "outputs": [],
      "source": [
        "def collatz(number):\n",
        "    if number % 2 == 0:\n",
        "        result=number//2\n",
        "    else:\n",
        "        result=3*number+1\n",
        "    print(result)\n",
        "    return result\n",
        "\n",
        "def main():\n",
        "    try:\n",
        "        user_input = int(input(\"Enter an integer: \"))\n",
        "        while user_input != 1:\n",
        "            user_input = collatz(user_input)\n",
        "    except ValueError:\n",
        "        print(\"Please enter a valid integer.\")\n",
        "\n",
        "if __name__ == \"__main__\":\n",
        "    main()\n",
        "\n",
        "\n",
        "\n",
        "\n",
        "\n",
        "\n",
        "\n",
        "\n",
        "\n",
        "\n",
        "\n",
        "\n",
        "\n",
        "\n",
        "\n",
        "\n"
      ]
    }
  ]
}