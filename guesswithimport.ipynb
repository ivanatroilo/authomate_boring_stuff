{
  "nbformat": 4,
  "nbformat_minor": 0,
  "metadata": {
    "colab": {
      "provenance": [],
      "authorship_tag": "ABX9TyMDQhI7Lbu+AngPmW9aMxyW",
      "include_colab_link": true
    },
    "kernelspec": {
      "name": "python3",
      "display_name": "Python 3"
    },
    "language_info": {
      "name": "python"
    }
  },
  "cells": [
    {
      "cell_type": "markdown",
      "metadata": {
        "id": "view-in-github",
        "colab_type": "text"
      },
      "source": [
        "<a href=\"https://colab.research.google.com/github/ivanatroilo/authomate_boring_stuff/blob/main/guesswithimport.ipynb\" target=\"_parent\"><img src=\"https://colab.research.google.com/assets/colab-badge.svg\" alt=\"Open In Colab\"/></a>"
      ]
    },
    {
      "cell_type": "code",
      "execution_count": null,
      "metadata": {
        "id": "qhAms-rW4Csz"
      },
      "outputs": [],
      "source": [
        "import random\n",
        "\n",
        "def guesanumber(answernumber):\n",
        "   if answernumber == 1:\n",
        "      return \"it's certain\"\n",
        "   elif answernumber == 2:\n",
        "      return \"It's decidely so\"\n",
        "   elif answernumber == 3:\n",
        "      return \"Yes\"\n",
        "   elif answernumber == 4:\n",
        "      return \"Reply hazy again\"\n",
        "   elif answernumber == 5:\n",
        "      return \"Ask again leter\"\n",
        "\n",
        "r = random.randint(1,5)\n",
        "fortune = guesanumber(r)\n",
        "print(fortune)\n",
        "\n",
        "\n",
        "\n",
        "\n",
        "\n",
        "\n",
        "\n",
        "\n",
        "\n",
        "\n",
        "\n",
        "\n",
        "\n",
        "\n",
        "\n",
        "\n"
      ]
    }
  ]
}