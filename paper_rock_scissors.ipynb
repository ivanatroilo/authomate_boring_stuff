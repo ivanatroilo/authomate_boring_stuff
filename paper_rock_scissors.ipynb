{
  "nbformat": 4,
  "nbformat_minor": 0,
  "metadata": {
    "colab": {
      "provenance": [],
      "authorship_tag": "ABX9TyM/CbJ6X+WS6QZyp64jYvwS",
      "include_colab_link": true
    },
    "kernelspec": {
      "name": "python3",
      "display_name": "Python 3"
    },
    "language_info": {
      "name": "python"
    }
  },
  "cells": [
    {
      "cell_type": "markdown",
      "metadata": {
        "id": "view-in-github",
        "colab_type": "text"
      },
      "source": [
        "<a href=\"https://colab.research.google.com/github/ivanatroilo/authomate_boring_stuff/blob/main/paper_rock_scissors.ipynb\" target=\"_parent\"><img src=\"https://colab.research.google.com/assets/colab-badge.svg\" alt=\"Open In Colab\"/></a>"
      ]
    },
    {
      "cell_type": "code",
      "execution_count": null,
      "metadata": {
        "id": "qhAms-rW4Csz"
      },
      "outputs": [],
      "source": [
        "from os import execlp\n",
        "import random, sys\n",
        "print(\"ROCK, PAPER OR SCISSORS\")\n",
        "\n",
        "wins = 0\n",
        "lose = 0\n",
        "tie = 0\n",
        "\n",
        "while True:\n",
        "  print('%s Wins, %s Losses, %s Ties' % (wins, lose, tie))\n",
        "  while True:\n",
        "     print(\"Enter your move: (r)ock, (p)aper, (s)cissors or quit\")\n",
        "     playermove = input()\n",
        "     if playermove == \"q\":\n",
        "        sys.exit() #quit the program\n",
        "     if playermove != \"q\":\n",
        "        break # Break out of the player input loop\n",
        "     print('Type one of r, p, s, or q.')\n",
        "\n",
        "  # Display what the player chose:\n",
        "  if playermove == \"r\":\n",
        "    print(\"ROCK vs. \")\n",
        "  elif playermove == \"s\":\n",
        "    print(\"SCISSORS vs. \")\n",
        "  elif playermove == \"p\":\n",
        "    print(\"PAPPER vs. \")\n",
        "\n",
        "  # Display what the computer chose:\n",
        "  import random\n",
        "  a =[\"r\", \"p\", \"s\"]\n",
        "  randomNumber = random.choice(a)\n",
        "  if randomNumber == \"r\":\n",
        "    print(\"ROCK\")\n",
        "  elif randomNumber == \"p\":\n",
        "    print(\"PAPER\")\n",
        "  elif randomNumber == \"s\":\n",
        "    print(\"SCISSORS\")\n",
        "\n",
        "  # Display and record the win/loss/tie:\n",
        "  if playermove == randomNumber:\n",
        "    print(\"It's a tie\")\n",
        "    tie = tie+1\n",
        "  elif playermove == \"p\" and randomNumber == \"r\":\n",
        "    print(\"You win\")\n",
        "    wins = wins+1\n",
        "  elif playermove == \"p\" and randomNumber == \"s\":\n",
        "    print(\"You lose\")\n",
        "    lose = lose+1\n",
        "  elif playermove == \"r\" and randomNumber == \"p\":\n",
        "    print(\"You lose\")\n",
        "    lose = lose+1\n",
        "  elif playermove == \"r\" and randomNumber == \"s\":\n",
        "    print(\"You win\")\n",
        "    wins = wins+1\n",
        "  elif playermove == \"s\" and randomNumber == \"r\":\n",
        "    print(\"You lose\")\n",
        "    lose = lose+1\n",
        "  elif playermove == \"s\" and randomNumber == \"p\":\n",
        "    print(\"You win\")\n",
        "    wins = wins+1\n",
        "\n",
        "\n",
        "\n",
        "\n",
        "\n",
        "\n",
        "\n",
        "\n",
        "\n",
        "\n",
        "\n",
        "\n",
        "\n",
        "\n",
        "\n",
        "\n"
      ]
    }
  ]
}